{
 "cells": [
  {
   "cell_type": "markdown",
   "metadata": {},
   "source": [
    "# What is up with Functions?\n",
    "\n",
    "Functions in python are \"FIRST CLASS OBJECTS\" which means that arguments can be passed to them and functions themselves can be used as arguments. What does that look like? Lets see with the example of a simple function:"
   ]
  },
  {
   "cell_type": "markdown",
   "metadata": {},
   "source": []
  },
  {
   "cell_type": "code",
   "execution_count": 245,
   "metadata": {},
   "outputs": [],
   "source": [
    "def say_hello():\n",
    "    print ('Hello World!')"
   ]
  },
  {
   "cell_type": "code",
   "execution_count": 246,
   "metadata": {},
   "outputs": [
    {
     "name": "stdout",
     "output_type": "stream",
     "text": [
      "Hello World!\n"
     ]
    }
   ],
   "source": [
    "say_hello()     #is the call"
   ]
  },
  {
   "cell_type": "code",
   "execution_count": 251,
   "metadata": {},
   "outputs": [
    {
     "data": {
      "text/plain": [
       "<function __main__.say_hello()>"
      ]
     },
     "execution_count": 251,
     "metadata": {},
     "output_type": "execute_result"
    }
   ],
   "source": [
    "say_hello       #is the reference"
   ]
  },
  {
   "cell_type": "code",
   "execution_count": 248,
   "metadata": {},
   "outputs": [],
   "source": [
    "def introduce(name):\n",
    "    print (\"It is a pleasure to meet you.\")\n",
    "    print (\"My name is {}.\".format(name))"
   ]
  },
  {
   "cell_type": "code",
   "execution_count": 249,
   "metadata": {},
   "outputs": [
    {
     "name": "stdout",
     "output_type": "stream",
     "text": [
      "It is a pleasure to meet you.\n",
      "My name is Mike.\n"
     ]
    }
   ],
   "source": [
    "introduce('Mike')"
   ]
  },
  {
   "cell_type": "code",
   "execution_count": 250,
   "metadata": {},
   "outputs": [
    {
     "name": "stdout",
     "output_type": "stream",
     "text": [
      "It is a pleasure to meet you.\n",
      "My name is <function say_hello at 0x108a39ae8>.\n"
     ]
    }
   ],
   "source": [
    "introduce(say_hello)"
   ]
  },
  {
   "cell_type": "markdown",
   "metadata": {},
   "source": [
    "Is it possible to call this reference that was passed? YES! \n",
    "\n",
    "Since we pass the reference of the **say_hello** function to our **do_twice** function. \n",
    "We can call the reference and it will call the function that was passed. Not a local copy but the actual function. "
   ]
  },
  {
   "cell_type": "code",
   "execution_count": 326,
   "metadata": {},
   "outputs": [],
   "source": [
    "def do_twice(function):\n",
    "    function()\n",
    "    function()\n",
    "    \n",
    "    print(function)"
   ]
  },
  {
   "cell_type": "code",
   "execution_count": 327,
   "metadata": {},
   "outputs": [
    {
     "name": "stdout",
     "output_type": "stream",
     "text": [
      "Hello World!\n",
      "Hello World!\n",
      "<function say_hello at 0x108a39ae8>\n"
     ]
    }
   ],
   "source": [
    "do_twice(say_hello)"
   ]
  },
  {
   "cell_type": "markdown",
   "metadata": {},
   "source": [
    "Now that we see functions passing and being passed we can understand decorators a bit better.\n",
    "Decorators are essentailly functions that take a function as argument and also **return** a function"
   ]
  },
  {
   "cell_type": "code",
   "execution_count": null,
   "metadata": {},
   "outputs": [],
   "source": []
  },
  {
   "cell_type": "code",
   "execution_count": null,
   "metadata": {},
   "outputs": [],
   "source": []
  },
  {
   "cell_type": "markdown",
   "metadata": {},
   "source": [
    "**Lets's say I was working on testing a good prime number checker and I was given dozens of functions that vary in efficiency and below are three codes that check for that**"
   ]
  },
  {
   "cell_type": "code",
   "execution_count": 409,
   "metadata": {},
   "outputs": [],
   "source": [
    "def is_prime_2(number):\n",
    "    from math import sqrt\n",
    "    \n",
    "    if number==2 or number==3: return True\n",
    "    if number%2==0 or number<2: return False\n",
    "    for i in range(3,int(number**0.5)+1,2):   # only odd numbers\n",
    "        if number%i==0:\n",
    "            return False    \n",
    "\n",
    "    return True\n"
   ]
  },
  {
   "cell_type": "code",
   "execution_count": 428,
   "metadata": {},
   "outputs": [],
   "source": [
    "def is_prime_1(number):\n",
    "    for number in range(0,number+1):\n",
    "        print (number)"
   ]
  },
  {
   "cell_type": "code",
   "execution_count": 429,
   "metadata": {},
   "outputs": [],
   "source": [
    "def is_prime(number):\n",
    "    if number ==1:\n",
    "        return False\n",
    "    elif number == 2:\n",
    "        return True\n",
    "    else:\n",
    "        for n in range (2, number):\n",
    "            if number%n == 0:\n",
    "                return False\n",
    "        return True"
   ]
  },
  {
   "cell_type": "code",
   "execution_count": 430,
   "metadata": {},
   "outputs": [],
   "source": [
    "def primes_up_to(number):\n",
    "    for num in range(2,number+1):\n",
    "        if is_prime_1(num):\n",
    "            print (num)"
   ]
  },
  {
   "cell_type": "code",
   "execution_count": 431,
   "metadata": {},
   "outputs": [
    {
     "name": "stdout",
     "output_type": "stream",
     "text": [
      "0\n",
      "1\n",
      "2\n",
      "0\n",
      "1\n",
      "2\n",
      "3\n"
     ]
    }
   ],
   "source": [
    "primes_up_to(3)"
   ]
  },
  {
   "cell_type": "markdown",
   "metadata": {},
   "source": [
    "Now, Let me see if I can find out which one is the fastest using the built in time module:"
   ]
  },
  {
   "cell_type": "code",
   "execution_count": null,
   "metadata": {},
   "outputs": [],
   "source": []
  },
  {
   "cell_type": "code",
   "execution_count": null,
   "metadata": {},
   "outputs": [],
   "source": []
  },
  {
   "cell_type": "markdown",
   "metadata": {},
   "source": [
    "The idea behind decorators is that we are able to take in and return a function. To start out, say I was unit testing a bunch of code to see when they were being called and what is their reference."
   ]
  },
  {
   "cell_type": "code",
   "execution_count": 346,
   "metadata": {},
   "outputs": [],
   "source": [
    "def run_func(function):\n",
    "    print (\"I'm calling the function:\", function.__name__, '\\n')\n",
    "    \n",
    "    function()\n",
    "    \n",
    "    print (\"\\nThis function is located at:\", function)"
   ]
  },
  {
   "cell_type": "code",
   "execution_count": 347,
   "metadata": {},
   "outputs": [
    {
     "name": "stdout",
     "output_type": "stream",
     "text": [
      "I'm calling the function: say_hello \n",
      "\n",
      "Hello World!\n",
      "\n",
      "This function is located at: <function say_hello at 0x108a39ae8>\n"
     ]
    }
   ],
   "source": [
    "run_func(say_hello)"
   ]
  },
  {
   "cell_type": "markdown",
   "metadata": {},
   "source": [
    "# Question for all!\n",
    "\n",
    "What do you think is going to be the result of the following line?"
   ]
  },
  {
   "cell_type": "code",
   "execution_count": 339,
   "metadata": {},
   "outputs": [
    {
     "name": "stdout",
     "output_type": "stream",
     "text": [
      "I'm calling the function: do_twice\n"
     ]
    },
    {
     "ename": "TypeError",
     "evalue": "do_twice() missing 1 required positional argument: 'function'",
     "output_type": "error",
     "traceback": [
      "\u001b[0;31m---------------------------------------------------------------------------\u001b[0m",
      "\u001b[0;31mTypeError\u001b[0m                                 Traceback (most recent call last)",
      "\u001b[0;32m<ipython-input-339-22fab01acc5e>\u001b[0m in \u001b[0;36m<module>\u001b[0;34m()\u001b[0m\n\u001b[0;32m----> 1\u001b[0;31m \u001b[0mrun_func\u001b[0m\u001b[0;34m(\u001b[0m\u001b[0mdo_twice\u001b[0m\u001b[0;34m)\u001b[0m\u001b[0;34m\u001b[0m\u001b[0m\n\u001b[0m",
      "\u001b[0;32m<ipython-input-335-b71e6fbf3bac>\u001b[0m in \u001b[0;36mrun_func\u001b[0;34m(function)\u001b[0m\n\u001b[1;32m      2\u001b[0m     \u001b[0mprint\u001b[0m \u001b[0;34m(\u001b[0m\u001b[0;34m\"I'm calling the function:\"\u001b[0m\u001b[0;34m,\u001b[0m \u001b[0mfunction\u001b[0m\u001b[0;34m.\u001b[0m\u001b[0m__name__\u001b[0m\u001b[0;34m)\u001b[0m\u001b[0;34m\u001b[0m\u001b[0m\n\u001b[1;32m      3\u001b[0m \u001b[0;34m\u001b[0m\u001b[0m\n\u001b[0;32m----> 4\u001b[0;31m     \u001b[0mfunction\u001b[0m\u001b[0;34m(\u001b[0m\u001b[0;34m)\u001b[0m\u001b[0;34m\u001b[0m\u001b[0m\n\u001b[0m\u001b[1;32m      5\u001b[0m \u001b[0;34m\u001b[0m\u001b[0m\n\u001b[1;32m      6\u001b[0m     \u001b[0mprint\u001b[0m \u001b[0;34m(\u001b[0m\u001b[0;34m\"*\"\u001b[0m\u001b[0;34m*\u001b[0m\u001b[0;36m20\u001b[0m\u001b[0;34m)\u001b[0m\u001b[0;34m\u001b[0m\u001b[0m\n",
      "\u001b[0;31mTypeError\u001b[0m: do_twice() missing 1 required positional argument: 'function'"
     ]
    }
   ],
   "source": [
    "run_func(do_twice)"
   ]
  },
  {
   "cell_type": "markdown",
   "metadata": {},
   "source": [
    "So, do twice required a function when being called and because it didn't get a function it threw an error"
   ]
  },
  {
   "cell_type": "code",
   "execution_count": null,
   "metadata": {},
   "outputs": [],
   "source": []
  },
  {
   "cell_type": "code",
   "execution_count": null,
   "metadata": {},
   "outputs": [],
   "source": []
  },
  {
   "cell_type": "code",
   "execution_count": null,
   "metadata": {},
   "outputs": [],
   "source": []
  },
  {
   "cell_type": "code",
   "execution_count": null,
   "metadata": {},
   "outputs": [],
   "source": []
  },
  {
   "cell_type": "markdown",
   "metadata": {},
   "source": [
    "So, do twice required a function when being called and because it didn't get a function it threw an error"
   ]
  },
  {
   "cell_type": "code",
   "execution_count": 310,
   "metadata": {},
   "outputs": [],
   "source": [
    "def run_func_with_arguments(function, *args, **kwargs):\n",
    "    function(*args, **kwargs)\n",
    "    \n",
    "    print (\"*\"*20)\n",
    "    print (\"I'm calling the function: \\n\", function.__name__)\n",
    "    print (\"The function is located at: \\n\", function)"
   ]
  },
  {
   "cell_type": "code",
   "execution_count": 313,
   "metadata": {},
   "outputs": [
    {
     "name": "stdout",
     "output_type": "stream",
     "text": [
      "Hello World!\n",
      "********************\n",
      "I'm calling the function: \n",
      " say_hello\n",
      "The function is located at: \n",
      " <function say_hello at 0x108a39ae8>\n"
     ]
    }
   ],
   "source": [
    "run_func_with_arguments(say_hello)"
   ]
  },
  {
   "cell_type": "code",
   "execution_count": 315,
   "metadata": {},
   "outputs": [
    {
     "name": "stdout",
     "output_type": "stream",
     "text": [
      "Hello World!\n",
      "Hello World!\n",
      "********************\n",
      "I'm calling the function: \n",
      " do_twice\n",
      "The function is located at: \n",
      " <function do_twice at 0x108a39ea0>\n"
     ]
    }
   ],
   "source": [
    "run_func_with_arguments(do_twice, say_hello)"
   ]
  },
  {
   "cell_type": "markdown",
   "metadata": {},
   "source": [
    "#### I Like knowing what is being called and it's location but it's starting to get bothersome to write it so many times.\n",
    "\n",
    "What If I could have a debuging function that could do that for me?"
   ]
  },
  {
   "cell_type": "code",
   "execution_count": 321,
   "metadata": {},
   "outputs": [],
   "source": [
    "def debug_details(function):\n",
    "    print (\"*\"*20)\n",
    "    print (\"I'm calling the function: \\n\", function.__name__)\n",
    "    print (\"The function is located at: \\n\", function)    "
   ]
  },
  {
   "cell_type": "code",
   "execution_count": 322,
   "metadata": {},
   "outputs": [],
   "source": [
    "def run_func_with_arguments(function, *args, **kwargs):\n",
    "    function(*args, **kwargs)\n",
    "    \n",
    "    debug_details(function)"
   ]
  },
  {
   "cell_type": "code",
   "execution_count": 323,
   "metadata": {},
   "outputs": [
    {
     "name": "stdout",
     "output_type": "stream",
     "text": [
      "Hello World!\n",
      "Hello World!\n",
      "********************\n",
      "I __main__ m calling the function: \n",
      " do_twice\n",
      "The function is located at: \n",
      " <function do_twice at 0x108a39ea0>\n"
     ]
    }
   ],
   "source": [
    "run_func_with_arguments(do_twice, say_hello)"
   ]
  },
  {
   "cell_type": "code",
   "execution_count": null,
   "metadata": {},
   "outputs": [],
   "source": []
  },
  {
   "cell_type": "code",
   "execution_count": null,
   "metadata": {},
   "outputs": [],
   "source": []
  },
  {
   "cell_type": "code",
   "execution_count": null,
   "metadata": {},
   "outputs": [],
   "source": []
  },
  {
   "cell_type": "code",
   "execution_count": null,
   "metadata": {},
   "outputs": [],
   "source": []
  },
  {
   "cell_type": "code",
   "execution_count": 198,
   "metadata": {},
   "outputs": [],
   "source": [
    "def bob_intro(intro_func):\n",
    "    intro_func('Bob')"
   ]
  },
  {
   "cell_type": "markdown",
   "metadata": {},
   "source": [
    "bob_intro is a function that gets passed a function. It calls the function it was passed with the name 'Bob' passed to it."
   ]
  },
  {
   "cell_type": "code",
   "execution_count": 199,
   "metadata": {},
   "outputs": [
    {
     "name": "stdout",
     "output_type": "stream",
     "text": [
      "Hi! I'm Bob!\n"
     ]
    }
   ],
   "source": [
    "bob_intro(informal)"
   ]
  },
  {
   "cell_type": "code",
   "execution_count": 200,
   "metadata": {},
   "outputs": [
    {
     "name": "stdout",
     "output_type": "stream",
     "text": [
      "It is a pleasure to meet you.\n",
      "My name is Bob\n"
     ]
    }
   ],
   "source": [
    "bob_intro(formal)"
   ]
  },
  {
   "cell_type": "markdown",
   "metadata": {},
   "source": [
    "# End goal:DECORATOR"
   ]
  },
  {
   "cell_type": "code",
   "execution_count": 215,
   "metadata": {},
   "outputs": [],
   "source": [
    "import functools\n",
    "\n",
    "def run_twice(func):\n",
    "    @functools.wraps(func)\n",
    "    def wrapper_run_twice():\n",
    "        func()\n",
    "        func()\n",
    "    return wrapper_run_twice\n",
    "\n",
    "@run_twice\n",
    "def say_hello():\n",
    "    print ('Hello World!')\n",
    "        "
   ]
  },
  {
   "cell_type": "code",
   "execution_count": 216,
   "metadata": {},
   "outputs": [
    {
     "name": "stdout",
     "output_type": "stream",
     "text": [
      "Hello World!\n",
      "Hello World!\n"
     ]
    }
   ],
   "source": [
    "say_hello()"
   ]
  },
  {
   "cell_type": "markdown",
   "metadata": {},
   "source": [
    "# Pass and you shall recieve... something different?\n",
    "\n",
    "Lets look at Decorators by first looking at a simple say hello function"
   ]
  },
  {
   "cell_type": "code",
   "execution_count": 181,
   "metadata": {},
   "outputs": [],
   "source": [
    "def decorator(func):\n",
    "    def wrapper():\n",
    "        print (\"I'm ready\")\n",
    "        func()\n",
    "        print (\"I'm Done\")\n",
    "    return wrapper"
   ]
  },
  {
   "cell_type": "markdown",
   "metadata": {},
   "source": [
    "## Important.\n",
    "1. The **decorator** is being passed a function. (hint: One can pass any CALLABLE OBJECT)\n",
    "2. Within the decorator function the **wrappper** function is going to enhance/modify the passed function\n",
    "Understanding the next line holds the key to understanding decorators"
   ]
  },
  {
   "cell_type": "code",
   "execution_count": 182,
   "metadata": {},
   "outputs": [],
   "source": [
    "decorated_say_hello = decorator(say_hello)"
   ]
  },
  {
   "cell_type": "code",
   "execution_count": 184,
   "metadata": {},
   "outputs": [
    {
     "name": "stdout",
     "output_type": "stream",
     "text": [
      "I'm ready\n",
      "Hello World!\n",
      "I'm Done\n"
     ]
    }
   ],
   "source": [
    "decorated_say_hello()"
   ]
  },
  {
   "cell_type": "code",
   "execution_count": 185,
   "metadata": {},
   "outputs": [
    {
     "data": {
      "text/plain": [
       "<function __main__.decorator.<locals>.wrapper()>"
      ]
     },
     "execution_count": 185,
     "metadata": {},
     "output_type": "execute_result"
    }
   ],
   "source": [
    "decorated_say_hello"
   ]
  },
  {
   "cell_type": "markdown",
   "metadata": {},
   "source": [
    "The reference has changed. say_hello now references a wrapper fuction.\n",
    "\n",
    "## decorated_function = decorator(being_decorated_function)"
   ]
  },
  {
   "cell_type": "code",
   "execution_count": 204,
   "metadata": {},
   "outputs": [],
   "source": [
    "from datetime import datetime\n",
    "\n",
    "def seasonal_decorator(func):\n",
    "    def season_wrapper():\n",
    "        func()\n",
    "        if datetime.now().month <= 6:\n",
    "            print(\"Stay cool\")\n",
    "        else:\n",
    "            print(\"Make sure you have a jacket!\")\n",
    "    return season_wrapper"
   ]
  },
  {
   "cell_type": "code",
   "execution_count": 205,
   "metadata": {},
   "outputs": [],
   "source": [
    "def greeting():\n",
    "    print ('Hello World!')"
   ]
  },
  {
   "cell_type": "code",
   "execution_count": 206,
   "metadata": {},
   "outputs": [],
   "source": [
    "seasonal_greeting = seasonal_decorator(greeting)"
   ]
  },
  {
   "cell_type": "code",
   "execution_count": 207,
   "metadata": {},
   "outputs": [
    {
     "name": "stdout",
     "output_type": "stream",
     "text": [
      "Hello World!\n"
     ]
    }
   ],
   "source": [
    "greeting()"
   ]
  },
  {
   "cell_type": "markdown",
   "metadata": {},
   "source": [
    "But I'm writing the name of the function twice, feels pretty tedious.\n",
    "Python has some syntactic sugar a short form: @decorator"
   ]
  },
  {
   "cell_type": "code",
   "execution_count": 138,
   "metadata": {},
   "outputs": [
    {
     "name": "stdout",
     "output_type": "stream",
     "text": [
      "Hello World!\n"
     ]
    }
   ],
   "source": [
    "greet()"
   ]
  },
  {
   "cell_type": "code",
   "execution_count": 139,
   "metadata": {},
   "outputs": [],
   "source": [
    "@season_greeting\n",
    "def greet():\n",
    "    print ('Hello World!')"
   ]
  },
  {
   "cell_type": "code",
   "execution_count": 140,
   "metadata": {},
   "outputs": [
    {
     "name": "stdout",
     "output_type": "stream",
     "text": [
      "Hello World!\n",
      "Make sure you have a jacket!\n"
     ]
    }
   ],
   "source": [
    "greet()"
   ]
  },
  {
   "cell_type": "code",
   "execution_count": null,
   "metadata": {},
   "outputs": [],
   "source": []
  }
 ],
 "metadata": {
  "kernelspec": {
   "display_name": "Python 3",
   "language": "python",
   "name": "python3"
  },
  "language_info": {
   "codemirror_mode": {
    "name": "ipython",
    "version": 3
   },
   "file_extension": ".py",
   "mimetype": "text/x-python",
   "name": "python",
   "nbconvert_exporter": "python",
   "pygments_lexer": "ipython3",
   "version": "3.6.4"
  }
 },
 "nbformat": 4,
 "nbformat_minor": 2
}
